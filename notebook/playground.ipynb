{
 "cells": [
  {
   "cell_type": "code",
   "execution_count": 1,
   "id": "641ee6dc",
   "metadata": {},
   "outputs": [
    {
     "name": "stdout",
     "output_type": "stream",
     "text": [
      "ok\n"
     ]
    }
   ],
   "source": [
    "print(\"ok\")"
   ]
  },
  {
   "cell_type": "code",
   "execution_count": 2,
   "id": "b78026be",
   "metadata": {},
   "outputs": [
    {
     "name": "stdout",
     "output_type": "stream",
     "text": [
      "✅ 100 synthetic upsell records generated.\n"
     ]
    }
   ],
   "source": [
    "import random\n",
    "import json\n",
    "from faker import Faker\n",
    "\n",
    "fake = Faker()\n",
    "\n",
    "services = [\"Basic Pest Control\", \"Termite Control\", \"Rodent Exclusion\", \"Ant Treatment\"]\n",
    "property_types = [\"Residential\", \"Commercial\"]\n",
    "seasons = [\"Spring\", \"Summer\", \"Fall\", \"Winter\"]\n",
    "pest_trends = {\n",
    "    \"mosquito\": \"High mosquito activity\",\n",
    "    \"termite\": \"Rising termite inspections\",\n",
    "    \"rodent\": \"Increased rodent complaints\",\n",
    "    \"ant\": \"Ant infestations reported nearby\"\n",
    "}\n",
    "upsells = {\n",
    "    \"mosquito\": \"Mosquito Monthly Plan\",\n",
    "    \"termite\": \"Termite Barrier Protection\",\n",
    "    \"rodent\": \"Rodent Defense Package\",\n",
    "    \"ant\": \"Comprehensive Ant Treatment\"\n",
    "}\n",
    "\n",
    "synthetic_data = []\n",
    "\n",
    "for i in range(100):\n",
    "    trend_key = random.choice(list(pest_trends.keys()))\n",
    "    zip_code = fake.zipcode()\n",
    "    city_state = f\"{fake.city()}, {fake.state_abbr()}\"\n",
    "    \n",
    "    record = {\n",
    "        \"customer_id\": f\"CUST_{1000 + i}\",\n",
    "        \"location\": city_state,\n",
    "        \"zip\": zip_code,\n",
    "        \"property_type\": random.choice(property_types),\n",
    "        \"season\": random.choice(seasons),\n",
    "        \"current_services\": random.sample(services, k=random.randint(1, 2)),\n",
    "        \"pest_trend\": pest_trends[trend_key],\n",
    "        \"recommended_upsell\": upsells[trend_key],\n",
    "        \"reason\": f\"{pest_trends[trend_key]} in your area ({zip_code})\"\n",
    "    }\n",
    "    synthetic_data.append(record)\n",
    "\n",
    "# Save to file or print\n",
    "with open(\"synthetic_upsell_data.json\", \"w\") as f:\n",
    "    json.dump(synthetic_data, f, indent=2)\n",
    "\n",
    "print(\"✅ 100 synthetic upsell records generated.\")\n"
   ]
  }
 ],
 "metadata": {
  "kernelspec": {
   "display_name": "env",
   "language": "python",
   "name": "python3"
  },
  "language_info": {
   "codemirror_mode": {
    "name": "ipython",
    "version": 3
   },
   "file_extension": ".py",
   "mimetype": "text/x-python",
   "name": "python",
   "nbconvert_exporter": "python",
   "pygments_lexer": "ipython3",
   "version": "3.13.5"
  }
 },
 "nbformat": 4,
 "nbformat_minor": 5
}
